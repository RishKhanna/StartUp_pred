{
  "nbformat": 4,
  "nbformat_minor": 0,
  "metadata": {
    "colab": {
      "provenance": []
    },
    "kernelspec": {
      "name": "python3",
      "display_name": "Python 3"
    },
    "language_info": {
      "name": "python"
    }
  },
  "cells": [
    {
      "cell_type": "code",
      "execution_count": null,
      "metadata": {
        "id": "ALMWxCRd80-D"
      },
      "outputs": [],
      "source": [
        "import pandas as pd\n",
        "import pickle as pkl\n",
        "from sklearn.metrics import recall_score "
      ]
    },
    {
      "cell_type": "code",
      "source": [
        "# You can add your dataframe here\n",
        "from google.colab import drive\n",
        "drive.mount('/content/gdrive')"
      ],
      "metadata": {
        "colab": {
          "base_uri": "https://localhost:8080/"
        },
        "id": "fEXRbyA49IkY",
        "outputId": "828fcc74-d0af-4f8e-dccf-e891b8559bb7"
      },
      "execution_count": null,
      "outputs": [
        {
          "output_type": "stream",
          "name": "stdout",
          "text": [
            "Mounted at /content/gdrive\n"
          ]
        }
      ]
    },
    {
      "cell_type": "code",
      "source": [
        "Mod= pkl.load(open(\"/content/gdrive/MyDrive/Dlabs_Internship/Test_data/Data balence/Model.pkl\",'rb'))"
      ],
      "metadata": {
        "id": "o9EFd4yX9D9q"
      },
      "execution_count": null,
      "outputs": []
    },
    {
      "cell_type": "code",
      "source": [
        "df = pd.read_csv(\"/content/gdrive/MyDrive/Dlabs_Internship/Test_data/customer traction/output.csv\")\n",
        "col_to_keep = ['Website Link', 'App Link', 'Team Size', 'revenue slab',\n",
        "       'VC funded', 'Angle funding / Seed funding', 'B2B', 'Crowd funded', 'Bootstrapped',\n",
        "       'Product is not live yet', 'B2C', 'C2C', 'B2B2C', 'Govt. funded', \"[Traction] app downloads\",\n",
        "       'Bank funded / Loan', 'Incubator/Accelerator funded', \"[Traction] # user\",\n",
        "       'Collected from worksheet',\"[Traction] Less than 2\" ,\"[Brief] word count\", \n",
        "        \"[Traction] More than 2\",\"[Traction] makes sense\", 'Label']\n",
        "X = col_to_keep[:-1]\n",
        "y = col_to_keep[-1]\n",
        "df_names = pd.DataFrame(df[\"Company Name\"])\n",
        "df = df[col_to_keep]"
      ],
      "metadata": {
        "id": "4ZlDyLbG9ZNe"
      },
      "execution_count": null,
      "outputs": []
    },
    {
      "cell_type": "code",
      "source": [
        "repeat = {\"revenue slab1\":\"revenue slab\" , \"[Traction] # user2\":\"[Traction] # user\",\"[Brief] word count1\":\"[Brief] word count\" }\n",
        "for i in repeat:\n",
        "  df[i] = df[repeat[i]]"
      ],
      "metadata": {
        "id": "JjYjj4EX-Wx2"
      },
      "execution_count": null,
      "outputs": []
    },
    {
      "cell_type": "code",
      "source": [
        "df[\"Predict\"] = Mod.predict(df[X])\n",
        "df[\"Company Name\"] = df_names[\"Company Name\"]"
      ],
      "metadata": {
        "colab": {
          "base_uri": "https://localhost:8080/"
        },
        "id": "QZxr0F9lrPmq",
        "outputId": "9840c566-6928-4100-dfde-b40113727ccb"
      },
      "execution_count": null,
      "outputs": [
        {
          "output_type": "stream",
          "name": "stderr",
          "text": [
            "/usr/local/lib/python3.7/dist-packages/sklearn/base.py:444: UserWarning: X has feature names, but RandomForestClassifier was fitted without feature names\n",
            "  f\"X has feature names, but {self.__class__.__name__} was fitted without\"\n"
          ]
        }
      ]
    },
    {
      "cell_type": "code",
      "source": [
        "df_out = df[[\"Company Name\", \"Label\", \"Predict\"]]"
      ],
      "metadata": {
        "id": "4DubFPi6sbqS"
      },
      "execution_count": null,
      "outputs": []
    },
    {
      "cell_type": "markdown",
      "source": [
        "## Confusion Matrix"
      ],
      "metadata": {
        "id": "7QMAsY5epMuK"
      }
    },
    {
      "cell_type": "code",
      "source": [
        "confusion_matrix = pd.crosstab(df['Label'], df['Predict'], rownames=['Actual'], colnames=['Predicted'])\n",
        "confusion_matrix"
      ],
      "metadata": {
        "colab": {
          "base_uri": "https://localhost:8080/",
          "height": 143
        },
        "id": "FQwwG_wkBWCH",
        "outputId": "2fab651a-f395-49af-e4d7-5f0dd3222ded"
      },
      "execution_count": null,
      "outputs": [
        {
          "output_type": "execute_result",
          "data": {
            "text/plain": [
              "Predicted     0     1\n",
              "Actual               \n",
              "0          4165  1148\n",
              "1            72    56"
            ],
            "text/html": [
              "\n",
              "  <div id=\"df-13bb14da-7627-4b87-b10f-7235e04561d0\">\n",
              "    <div class=\"colab-df-container\">\n",
              "      <div>\n",
              "<style scoped>\n",
              "    .dataframe tbody tr th:only-of-type {\n",
              "        vertical-align: middle;\n",
              "    }\n",
              "\n",
              "    .dataframe tbody tr th {\n",
              "        vertical-align: top;\n",
              "    }\n",
              "\n",
              "    .dataframe thead th {\n",
              "        text-align: right;\n",
              "    }\n",
              "</style>\n",
              "<table border=\"1\" class=\"dataframe\">\n",
              "  <thead>\n",
              "    <tr style=\"text-align: right;\">\n",
              "      <th>Predicted</th>\n",
              "      <th>0</th>\n",
              "      <th>1</th>\n",
              "    </tr>\n",
              "    <tr>\n",
              "      <th>Actual</th>\n",
              "      <th></th>\n",
              "      <th></th>\n",
              "    </tr>\n",
              "  </thead>\n",
              "  <tbody>\n",
              "    <tr>\n",
              "      <th>0</th>\n",
              "      <td>4165</td>\n",
              "      <td>1148</td>\n",
              "    </tr>\n",
              "    <tr>\n",
              "      <th>1</th>\n",
              "      <td>72</td>\n",
              "      <td>56</td>\n",
              "    </tr>\n",
              "  </tbody>\n",
              "</table>\n",
              "</div>\n",
              "      <button class=\"colab-df-convert\" onclick=\"convertToInteractive('df-13bb14da-7627-4b87-b10f-7235e04561d0')\"\n",
              "              title=\"Convert this dataframe to an interactive table.\"\n",
              "              style=\"display:none;\">\n",
              "        \n",
              "  <svg xmlns=\"http://www.w3.org/2000/svg\" height=\"24px\"viewBox=\"0 0 24 24\"\n",
              "       width=\"24px\">\n",
              "    <path d=\"M0 0h24v24H0V0z\" fill=\"none\"/>\n",
              "    <path d=\"M18.56 5.44l.94 2.06.94-2.06 2.06-.94-2.06-.94-.94-2.06-.94 2.06-2.06.94zm-11 1L8.5 8.5l.94-2.06 2.06-.94-2.06-.94L8.5 2.5l-.94 2.06-2.06.94zm10 10l.94 2.06.94-2.06 2.06-.94-2.06-.94-.94-2.06-.94 2.06-2.06.94z\"/><path d=\"M17.41 7.96l-1.37-1.37c-.4-.4-.92-.59-1.43-.59-.52 0-1.04.2-1.43.59L10.3 9.45l-7.72 7.72c-.78.78-.78 2.05 0 2.83L4 21.41c.39.39.9.59 1.41.59.51 0 1.02-.2 1.41-.59l7.78-7.78 2.81-2.81c.8-.78.8-2.07 0-2.86zM5.41 20L4 18.59l7.72-7.72 1.47 1.35L5.41 20z\"/>\n",
              "  </svg>\n",
              "      </button>\n",
              "      \n",
              "  <style>\n",
              "    .colab-df-container {\n",
              "      display:flex;\n",
              "      flex-wrap:wrap;\n",
              "      gap: 12px;\n",
              "    }\n",
              "\n",
              "    .colab-df-convert {\n",
              "      background-color: #E8F0FE;\n",
              "      border: none;\n",
              "      border-radius: 50%;\n",
              "      cursor: pointer;\n",
              "      display: none;\n",
              "      fill: #1967D2;\n",
              "      height: 32px;\n",
              "      padding: 0 0 0 0;\n",
              "      width: 32px;\n",
              "    }\n",
              "\n",
              "    .colab-df-convert:hover {\n",
              "      background-color: #E2EBFA;\n",
              "      box-shadow: 0px 1px 2px rgba(60, 64, 67, 0.3), 0px 1px 3px 1px rgba(60, 64, 67, 0.15);\n",
              "      fill: #174EA6;\n",
              "    }\n",
              "\n",
              "    [theme=dark] .colab-df-convert {\n",
              "      background-color: #3B4455;\n",
              "      fill: #D2E3FC;\n",
              "    }\n",
              "\n",
              "    [theme=dark] .colab-df-convert:hover {\n",
              "      background-color: #434B5C;\n",
              "      box-shadow: 0px 1px 3px 1px rgba(0, 0, 0, 0.15);\n",
              "      filter: drop-shadow(0px 1px 2px rgba(0, 0, 0, 0.3));\n",
              "      fill: #FFFFFF;\n",
              "    }\n",
              "  </style>\n",
              "\n",
              "      <script>\n",
              "        const buttonEl =\n",
              "          document.querySelector('#df-13bb14da-7627-4b87-b10f-7235e04561d0 button.colab-df-convert');\n",
              "        buttonEl.style.display =\n",
              "          google.colab.kernel.accessAllowed ? 'block' : 'none';\n",
              "\n",
              "        async function convertToInteractive(key) {\n",
              "          const element = document.querySelector('#df-13bb14da-7627-4b87-b10f-7235e04561d0');\n",
              "          const dataTable =\n",
              "            await google.colab.kernel.invokeFunction('convertToInteractive',\n",
              "                                                     [key], {});\n",
              "          if (!dataTable) return;\n",
              "\n",
              "          const docLinkHtml = 'Like what you see? Visit the ' +\n",
              "            '<a target=\"_blank\" href=https://colab.research.google.com/notebooks/data_table.ipynb>data table notebook</a>'\n",
              "            + ' to learn more about interactive tables.';\n",
              "          element.innerHTML = '';\n",
              "          dataTable['output_type'] = 'display_data';\n",
              "          await google.colab.output.renderOutput(dataTable, element);\n",
              "          const docLink = document.createElement('div');\n",
              "          docLink.innerHTML = docLinkHtml;\n",
              "          element.appendChild(docLink);\n",
              "        }\n",
              "      </script>\n",
              "    </div>\n",
              "  </div>\n",
              "  "
            ]
          },
          "metadata": {},
          "execution_count": 8
        }
      ]
    },
    {
      "cell_type": "code",
      "source": [
        "# df_out.to_csv(\"./predictions.csv\",index=False)"
      ],
      "metadata": {
        "id": "FpHc0y2usnCZ"
      },
      "execution_count": null,
      "outputs": []
    },
    {
      "cell_type": "markdown",
      "source": [
        "## Recall"
      ],
      "metadata": {
        "id": "brSe-emxpQNC"
      }
    },
    {
      "cell_type": "code",
      "source": [
        "recall_score(df[y], Mod.predict(df[X]), average='weighted')"
      ],
      "metadata": {
        "id": "rk4W-A3M_dnM",
        "colab": {
          "base_uri": "https://localhost:8080/"
        },
        "outputId": "5ab76850-16b1-41be-f46e-7aef4e0e79ab"
      },
      "execution_count": null,
      "outputs": [
        {
          "output_type": "stream",
          "name": "stderr",
          "text": [
            "/usr/local/lib/python3.7/dist-packages/sklearn/base.py:444: UserWarning: X has feature names, but RandomForestClassifier was fitted without feature names\n",
            "  f\"X has feature names, but {self.__class__.__name__} was fitted without\"\n"
          ]
        },
        {
          "output_type": "execute_result",
          "data": {
            "text/plain": [
              "0.7757765116706488"
            ]
          },
          "metadata": {},
          "execution_count": 10
        }
      ]
    },
    {
      "cell_type": "markdown",
      "source": [
        "## Feature Importance"
      ],
      "metadata": {
        "id": "gCWjf17_pSAe"
      }
    },
    {
      "cell_type": "code",
      "source": [
        "from matplotlib import pyplot as plt\n",
        "importance = Mod.feature_importances_\n",
        "# summarize feature importance\n",
        "for i,v in enumerate(importance):\n",
        "\tprint('Feature: %0d, Score: %.5f' % (i,v), col_to_keep[i])\n",
        "# plot feature importance\n",
        "fig, ax = plt.subplots(1,1)\n",
        "plt.bar([x for x in range(len(importance))], importance)\n",
        "ax.set_xticklabels([str(i) for i in col_to_keep] , rotation='vertical')\n",
        "plt.show()"
      ],
      "metadata": {
        "id": "iarq_a3b_16-",
        "colab": {
          "base_uri": "https://localhost:8080/",
          "height": 800
        },
        "outputId": "0e1d9662-c7c2-4c21-fe3f-393c15f6b868"
      },
      "execution_count": null,
      "outputs": [
        {
          "output_type": "stream",
          "name": "stdout",
          "text": [
            "Feature: 0, Score: 0.01224 Website Link\n",
            "Feature: 1, Score: 0.03643 App Link\n",
            "Feature: 2, Score: 0.02092 Team Size\n",
            "Feature: 3, Score: 0.03546 revenue slab\n",
            "Feature: 4, Score: 0.00000 VC funded\n",
            "Feature: 5, Score: 0.00147 Angle funding / Seed funding\n",
            "Feature: 6, Score: 0.00145 B2B\n",
            "Feature: 7, Score: 0.00000 Crowd funded\n",
            "Feature: 8, Score: 0.23919 Bootstrapped\n",
            "Feature: 9, Score: 0.00100 Product is not live yet\n",
            "Feature: 10, Score: 0.25222 B2C\n",
            "Feature: 11, Score: 0.00006 C2C\n",
            "Feature: 12, Score: 0.10321 B2B2C\n",
            "Feature: 13, Score: 0.00000 Govt. funded\n",
            "Feature: 14, Score: 0.00011 [Traction] app downloads\n",
            "Feature: 15, Score: 0.00000 Bank funded / Loan\n",
            "Feature: 16, Score: 0.00000 Incubator/Accelerator funded\n",
            "Feature: 17, Score: 0.00065 [Traction] # user\n",
            "Feature: 18, Score: 0.10505 Collected from worksheet\n",
            "Feature: 19, Score: 0.01557 [Traction] Less than 2\n",
            "Feature: 20, Score: 0.10778 [Brief] word count\n",
            "Feature: 21, Score: 0.03977 [Traction] More than 2\n",
            "Feature: 22, Score: 0.02740 [Traction] makes sense\n"
          ]
        },
        {
          "output_type": "display_data",
          "data": {
            "text/plain": [
              "<Figure size 432x288 with 1 Axes>"
            ],
            "image/png": "[encoded data removed]"
          },
          "metadata": {
            "needs_background": "light"
          }
        }
      ]
    },
    {
      "cell_type": "code",
      "source": [],
      "metadata": {
        "id": "XmbeePt7qkQx"
      },
      "execution_count": null,
      "outputs": []
    }
  ]
}