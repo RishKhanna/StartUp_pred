{
  "nbformat": 4,
  "nbformat_minor": 0,
  "metadata": {
    "colab": {
      "provenance": []
    },
    "kernelspec": {
      "name": "python3",
      "display_name": "Python 3"
    },
    "language_info": {
      "name": "python"
    }
  },
  "cells": [
    {
      "cell_type": "code",
      "execution_count": null,
      "metadata": {
        "id": "oSomY_Poyx0j"
      },
      "outputs": [],
      "source": [
        "from sklearn.datasets import fetch_openml\n",
        "# models\n",
        "from sklearn.linear_model import LogisticRegression\n",
        "from sklearn.svm import SVC\n",
        "from sklearn.tree import DecisionTreeClassifier\n",
        "from sklearn.ensemble import RandomForestClassifier\n",
        "from sklearn.neighbors import KNeighborsClassifier\n",
        "###\n",
        "from sklearn.decomposition import PCA\n",
        "from sklearn.preprocessing import StandardScaler\n",
        "from sklearn import metrics\n",
        "from sklearn.utils import shuffle\n",
        "from sklearn.model_selection import train_test_split\n",
        "import pandas as pd"
      ]
    },
    {
      "cell_type": "code",
      "source": [
        "col_to_keep = ['Website Link', 'App Link', 'Team Size', 'revenue slab',\n",
        "       'VC funded', 'Angle funding / Seed funding', 'B2B', 'Crowd funded', 'Bootstrapped',\n",
        "       'Product is not live yet', 'B2C', 'C2C', 'B2B2C', 'Govt. funded',\n",
        "       'Bank funded / Loan', 'Incubator/Accelerator funded',\n",
        "       'Collected from worksheet',\"[Traction] Less than 2\" ,\n",
        "        \"[Traction] More than 2\",\"[Traction] makes sense\", 'Label']"
      ],
      "metadata": {
        "id": "sl5zjsdMNMWX"
      },
      "execution_count": null,
      "outputs": []
    },
    {
      "cell_type": "markdown",
      "metadata": {
        "id": "yqFNCLV2QmF_"
      },
      "source": [
        "## Download and Load the Data"
      ]
    },
    {
      "cell_type": "code",
      "execution_count": null,
      "metadata": {
        "colab": {
          "base_uri": "https://localhost:8080/"
        },
        "id": "GO0DHLvOQmGA",
        "outputId": "1c889c8d-1750-4164-8453-e18899180d85"
      },
      "outputs": [
        {
          "output_type": "stream",
          "name": "stdout",
          "text": [
            "Drive already mounted at /content/gdrive; to attempt to forcibly remount, call drive.mount(\"/content/gdrive\", force_remount=True).\n"
          ]
        }
      ],
      "source": [
        "# You can add your dataframe here\n",
        "from google.colab import drive\n",
        "drive.mount('/content/gdrive')\n",
        "df = pd.read_csv(\"/content/gdrive/MyDrive/Dlabs_Internship/Test_data/customer traction/output.csv\")"
      ]
    },
    {
      "cell_type": "code",
      "source": [
        "col_to_keep = ['Website Link', 'App Link', 'Team Size', 'revenue slab',\n",
        "       'VC funded', 'Angle funding / Seed funding', 'B2B', 'Crowd funded', 'Bootstrapped',\n",
        "       'Product is not live yet', 'B2C', 'C2C', 'B2B2C', 'Govt. funded',\n",
        "       'Bank funded / Loan', 'Incubator/Accelerator funded',\n",
        "       'Collected from worksheet',\"[Traction] Less than 2\" ,\n",
        "        \"[Traction] More than 2\",\"[Traction] makes sense\", 'Label']\n",
        "X = col_to_keep[:-1]\n",
        "y = col_to_keep[-1]\n",
        "df = df[col_to_keep]"
      ],
      "metadata": {
        "id": "N2LUvIxqSpDc"
      },
      "execution_count": null,
      "outputs": []
    },
    {
      "cell_type": "code",
      "execution_count": null,
      "metadata": {
        "colab": {
          "base_uri": "https://localhost:8080/",
          "height": 351
        },
        "id": "Nqs0M9xQQmGB",
        "outputId": "34a273dc-55ca-46ed-abbe-4c5404c0b3af"
      },
      "outputs": [
        {
          "output_type": "execute_result",
          "data": {
            "text/plain": [
              "   Website Link  App Link  Team Size  revenue slab  VC funded  \\\n",
              "0             1         1         10           5.0          0   \n",
              "1             1         0         10          62.5          0   \n",
              "2             1         0         15           5.0          0   \n",
              "3             1         0         10          15.0          0   \n",
              "4             1         0         10         500.0          0   \n",
              "\n",
              "   Angle funding / Seed funding  B2B  Crowd funded  Bootstrapped  \\\n",
              "0                             0    1             0             1   \n",
              "1                             0    1             0             1   \n",
              "2                             0    1             0             1   \n",
              "3                             0    0             0             1   \n",
              "4                             0    1             0             0   \n",
              "\n",
              "   Product is not live yet  ...  C2C  B2B2C  Govt. funded  Bank funded / Loan  \\\n",
              "0                        0  ...    0      1             0                   0   \n",
              "1                        0  ...    0      0             0                   0   \n",
              "2                        0  ...    0      0             0                   0   \n",
              "3                        0  ...    0      0             0                   0   \n",
              "4                        0  ...    0      0             0                   0   \n",
              "\n",
              "   Incubator/Accelerator funded  Collected from worksheet  \\\n",
              "0                             0                      2021   \n",
              "1                             0                      2021   \n",
              "2                             0                      2021   \n",
              "3                             0                      2021   \n",
              "4                             0                      2021   \n",
              "\n",
              "   [Traction] Less than 2  [Traction] More than 2  [Traction] makes sense  \\\n",
              "0                       0                       1                       0   \n",
              "1                       1                       0                       1   \n",
              "2                       0                       1                       1   \n",
              "3                       0                       1                       0   \n",
              "4                       0                       1                       0   \n",
              "\n",
              "   Label  \n",
              "0      0  \n",
              "1      0  \n",
              "2      0  \n",
              "3      0  \n",
              "4      0  \n",
              "\n",
              "[5 rows x 21 columns]"
            ],
            "text/html": [
              "\n",
              "  <div id=\"df-3f32f8df-4938-4d2c-a7c5-d4c086f38680\">\n",
              "    <div class=\"colab-df-container\">\n",
              "      <div>\n",
              "<style scoped>\n",
              "    .dataframe tbody tr th:only-of-type {\n",
              "        vertical-align: middle;\n",
              "    }\n",
              "\n",
              "    .dataframe tbody tr th {\n",
              "        vertical-align: top;\n",
              "    }\n",
              "\n",
              "    .dataframe thead th {\n",
              "        text-align: right;\n",
              "    }\n",
              "</style>\n",
              "<table border=\"1\" class=\"dataframe\">\n",
              "  <thead>\n",
              "    <tr style=\"text-align: right;\">\n",
              "      <th></th>\n",
              "      <th>Website Link</th>\n",
              "      <th>App Link</th>\n",
              "      <th>Team Size</th>\n",
              "      <th>revenue slab</th>\n",
              "      <th>VC funded</th>\n",
              "      <th>Angle funding / Seed funding</th>\n",
              "      <th>B2B</th>\n",
              "      <th>Crowd funded</th>\n",
              "      <th>Bootstrapped</th>\n",
              "      <th>Product is not live yet</th>\n",
              "      <th>...</th>\n",
              "      <th>C2C</th>\n",
              "      <th>B2B2C</th>\n",
              "      <th>Govt. funded</th>\n",
              "      <th>Bank funded / Loan</th>\n",
              "      <th>Incubator/Accelerator funded</th>\n",
              "      <th>Collected from worksheet</th>\n",
              "      <th>[Traction] Less than 2</th>\n",
              "      <th>[Traction] More than 2</th>\n",
              "      <th>[Traction] makes sense</th>\n",
              "      <th>Label</th>\n",
              "    </tr>\n",
              "  </thead>\n",
              "  <tbody>\n",
              "    <tr>\n",
              "      <th>0</th>\n",
              "      <td>1</td>\n",
              "      <td>1</td>\n",
              "      <td>10</td>\n",
              "      <td>5.0</td>\n",
              "      <td>0</td>\n",
              "      <td>0</td>\n",
              "      <td>1</td>\n",
              "      <td>0</td>\n",
              "      <td>1</td>\n",
              "      <td>0</td>\n",
              "      <td>...</td>\n",
              "      <td>0</td>\n",
              "      <td>1</td>\n",
              "      <td>0</td>\n",
              "      <td>0</td>\n",
              "      <td>0</td>\n",
              "      <td>2021</td>\n",
              "      <td>0</td>\n",
              "      <td>1</td>\n",
              "      <td>0</td>\n",
              "      <td>0</td>\n",
              "    </tr>\n",
              "    <tr>\n",
              "      <th>1</th>\n",
              "      <td>1</td>\n",
              "      <td>0</td>\n",
              "      <td>10</td>\n",
              "      <td>62.5</td>\n",
              "      <td>0</td>\n",
              "      <td>0</td>\n",
              "      <td>1</td>\n",
              "      <td>0</td>\n",
              "      <td>1</td>\n",
              "      <td>0</td>\n",
              "      <td>...</td>\n",
              "      <td>0</td>\n",
              "      <td>0</td>\n",
              "      <td>0</td>\n",
              "      <td>0</td>\n",
              "      <td>0</td>\n",
              "      <td>2021</td>\n",
              "      <td>1</td>\n",
              "      <td>0</td>\n",
              "      <td>1</td>\n",
              "      <td>0</td>\n",
              "    </tr>\n",
              "    <tr>\n",
              "      <th>2</th>\n",
              "      <td>1</td>\n",
              "      <td>0</td>\n",
              "      <td>15</td>\n",
              "      <td>5.0</td>\n",
              "      <td>0</td>\n",
              "      <td>0</td>\n",
              "      <td>1</td>\n",
              "      <td>0</td>\n",
              "      <td>1</td>\n",
              "      <td>0</td>\n",
              "      <td>...</td>\n",
              "      <td>0</td>\n",
              "      <td>0</td>\n",
              "      <td>0</td>\n",
              "      <td>0</td>\n",
              "      <td>0</td>\n",
              "      <td>2021</td>\n",
              "      <td>0</td>\n",
              "      <td>1</td>\n",
              "      <td>1</td>\n",
              "      <td>0</td>\n",
              "    </tr>\n",
              "    <tr>\n",
              "      <th>3</th>\n",
              "      <td>1</td>\n",
              "      <td>0</td>\n",
              "      <td>10</td>\n",
              "      <td>15.0</td>\n",
              "      <td>0</td>\n",
              "      <td>0</td>\n",
              "      <td>0</td>\n",
              "      <td>0</td>\n",
              "      <td>1</td>\n",
              "      <td>0</td>\n",
              "      <td>...</td>\n",
              "      <td>0</td>\n",
              "      <td>0</td>\n",
              "      <td>0</td>\n",
              "      <td>0</td>\n",
              "      <td>0</td>\n",
              "      <td>2021</td>\n",
              "      <td>0</td>\n",
              "      <td>1</td>\n",
              "      <td>0</td>\n",
              "      <td>0</td>\n",
              "    </tr>\n",
              "    <tr>\n",
              "      <th>4</th>\n",
              "      <td>1</td>\n",
              "      <td>0</td>\n",
              "      <td>10</td>\n",
              "      <td>500.0</td>\n",
              "      <td>0</td>\n",
              "      <td>0</td>\n",
              "      <td>1</td>\n",
              "      <td>0</td>\n",
              "      <td>0</td>\n",
              "      <td>0</td>\n",
              "      <td>...</td>\n",
              "      <td>0</td>\n",
              "      <td>0</td>\n",
              "      <td>0</td>\n",
              "      <td>0</td>\n",
              "      <td>0</td>\n",
              "      <td>2021</td>\n",
              "      <td>0</td>\n",
              "      <td>1</td>\n",
              "      <td>0</td>\n",
              "      <td>0</td>\n",
              "    </tr>\n",
              "  </tbody>\n",
              "</table>\n",
              "<p>5 rows × 21 columns</p>\n",
              "</div>\n",
              "      <button class=\"colab-df-convert\" onclick=\"convertToInteractive('df-3f32f8df-4938-4d2c-a7c5-d4c086f38680')\"\n",
              "              title=\"Convert this dataframe to an interactive table.\"\n",
              "              style=\"display:none;\">\n",
              "        \n",
              "  <svg xmlns=\"http://www.w3.org/2000/svg\" height=\"24px\"viewBox=\"0 0 24 24\"\n",
              "       width=\"24px\">\n",
              "    <path d=\"M0 0h24v24H0V0z\" fill=\"none\"/>\n",
              "    <path d=\"M18.56 5.44l.94 2.06.94-2.06 2.06-.94-2.06-.94-.94-2.06-.94 2.06-2.06.94zm-11 1L8.5 8.5l.94-2.06 2.06-.94-2.06-.94L8.5 2.5l-.94 2.06-2.06.94zm10 10l.94 2.06.94-2.06 2.06-.94-2.06-.94-.94-2.06-.94 2.06-2.06.94z\"/><path d=\"M17.41 7.96l-1.37-1.37c-.4-.4-.92-.59-1.43-.59-.52 0-1.04.2-1.43.59L10.3 9.45l-7.72 7.72c-.78.78-.78 2.05 0 2.83L4 21.41c.39.39.9.59 1.41.59.51 0 1.02-.2 1.41-.59l7.78-7.78 2.81-2.81c.8-.78.8-2.07 0-2.86zM5.41 20L4 18.59l7.72-7.72 1.47 1.35L5.41 20z\"/>\n",
              "  </svg>\n",
              "      </button>\n",
              "      \n",
              "  <style>\n",
              "    .colab-df-container {\n",
              "      display:flex;\n",
              "      flex-wrap:wrap;\n",
              "      gap: 12px;\n",
              "    }\n",
              "\n",
              "    .colab-df-convert {\n",
              "      background-color: #E8F0FE;\n",
              "      border: none;\n",
              "      border-radius: 50%;\n",
              "      cursor: pointer;\n",
              "      display: none;\n",
              "      fill: #1967D2;\n",
              "      height: 32px;\n",
              "      padding: 0 0 0 0;\n",
              "      width: 32px;\n",
              "    }\n",
              "\n",
              "    .colab-df-convert:hover {\n",
              "      background-color: #E2EBFA;\n",
              "      box-shadow: 0px 1px 2px rgba(60, 64, 67, 0.3), 0px 1px 3px 1px rgba(60, 64, 67, 0.15);\n",
              "      fill: #174EA6;\n",
              "    }\n",
              "\n",
              "    [theme=dark] .colab-df-convert {\n",
              "      background-color: #3B4455;\n",
              "      fill: #D2E3FC;\n",
              "    }\n",
              "\n",
              "    [theme=dark] .colab-df-convert:hover {\n",
              "      background-color: #434B5C;\n",
              "      box-shadow: 0px 1px 3px 1px rgba(0, 0, 0, 0.15);\n",
              "      filter: drop-shadow(0px 1px 2px rgba(0, 0, 0, 0.3));\n",
              "      fill: #FFFFFF;\n",
              "    }\n",
              "  </style>\n",
              "\n",
              "      <script>\n",
              "        const buttonEl =\n",
              "          document.querySelector('#df-3f32f8df-4938-4d2c-a7c5-d4c086f38680 button.colab-df-convert');\n",
              "        buttonEl.style.display =\n",
              "          google.colab.kernel.accessAllowed ? 'block' : 'none';\n",
              "\n",
              "        async function convertToInteractive(key) {\n",
              "          const element = document.querySelector('#df-3f32f8df-4938-4d2c-a7c5-d4c086f38680');\n",
              "          const dataTable =\n",
              "            await google.colab.kernel.invokeFunction('convertToInteractive',\n",
              "                                                     [key], {});\n",
              "          if (!dataTable) return;\n",
              "\n",
              "          const docLinkHtml = 'Like what you see? Visit the ' +\n",
              "            '<a target=\"_blank\" href=https://colab.research.google.com/notebooks/data_table.ipynb>data table notebook</a>'\n",
              "            + ' to learn more about interactive tables.';\n",
              "          element.innerHTML = '';\n",
              "          dataTable['output_type'] = 'display_data';\n",
              "          await google.colab.output.renderOutput(dataTable, element);\n",
              "          const docLink = document.createElement('div');\n",
              "          docLink.innerHTML = docLinkHtml;\n",
              "          element.appendChild(docLink);\n",
              "        }\n",
              "      </script>\n",
              "    </div>\n",
              "  </div>\n",
              "  "
            ]
          },
          "metadata": {},
          "execution_count": 56
        }
      ],
      "source": [
        "df.head()"
      ]
    },
    {
      "cell_type": "markdown",
      "metadata": {
        "id": "8I1BaKJVQmGD"
      },
      "source": [
        "## Splitting Data into Training and Test Sets"
      ]
    },
    {
      "cell_type": "code",
      "execution_count": null,
      "metadata": {
        "id": "eOs2aT1MQmGD"
      },
      "outputs": [],
      "source": [
        "# test_size: what proportion of original data is used for test set\n",
        "train_img, test_img, train_lbl, test_lbl = train_test_split(\n",
        "    df[X], df[y], test_size=1/7.0, random_state=0)"
      ]
    },
    {
      "cell_type": "markdown",
      "metadata": {
        "id": "dqkycJvDQmGG"
      },
      "source": [
        "## Standardizing the Data"
      ]
    },
    {
      "cell_type": "code",
      "source": [
        "from sklearn.preprocessing import StandardScaler\n",
        "scaler = StandardScaler()\n",
        "\n",
        "# Fit on training set only.\n",
        "scaler.fit(train_img)\n",
        "\n",
        "# Apply transform to both the training set and the test set.\n",
        "train_img = scaler.transform(train_img)\n",
        "test_img = scaler.transform(test_img)"
      ],
      "metadata": {
        "id": "Xvv1EBOFzKbp"
      },
      "execution_count": null,
      "outputs": []
    },
    {
      "cell_type": "code",
      "execution_count": null,
      "metadata": {
        "id": "B4W7CrlxQmGI"
      },
      "outputs": [],
      "source": [
        "from sklearn.decomposition import PCA"
      ]
    },
    {
      "cell_type": "code",
      "execution_count": null,
      "metadata": {
        "id": "4fzwf4BCQmGJ"
      },
      "outputs": [],
      "source": [
        "pca = PCA(0.85)"
      ]
    },
    {
      "cell_type": "code",
      "execution_count": null,
      "metadata": {
        "colab": {
          "base_uri": "https://localhost:8080/"
        },
        "id": "NwIcRcxJQmGJ",
        "outputId": "9fc91393-36b2-4c41-dbaa-56aa63c17e87"
      },
      "outputs": [
        {
          "output_type": "execute_result",
          "data": {
            "text/plain": [
              "PCA(n_components=0.85)"
            ]
          },
          "metadata": {},
          "execution_count": 61
        }
      ],
      "source": [
        "pca.fit(train_img)"
      ]
    },
    {
      "cell_type": "code",
      "execution_count": null,
      "metadata": {
        "colab": {
          "base_uri": "https://localhost:8080/"
        },
        "id": "ly8Jy96pQmGK",
        "outputId": "ee945ac4-5f53-48b8-fa21-68164e0f7d3e"
      },
      "outputs": [
        {
          "output_type": "execute_result",
          "data": {
            "text/plain": [
              "9"
            ]
          },
          "metadata": {},
          "execution_count": 62
        }
      ],
      "source": [
        "pca.n_components_"
      ]
    },
    {
      "cell_type": "code",
      "execution_count": null,
      "metadata": {
        "id": "pKgU8fEUQmGK"
      },
      "outputs": [],
      "source": [
        "train_img = pca.transform(train_img)\n",
        "test_img = pca.transform(test_img)"
      ]
    },
    {
      "cell_type": "code",
      "execution_count": null,
      "metadata": {
        "id": "FiKIFD9RQmGL"
      },
      "outputs": [],
      "source": [
        "from sklearn.linear_model import LogisticRegression"
      ]
    },
    {
      "cell_type": "code",
      "execution_count": null,
      "metadata": {
        "id": "CJfj5qBnQmGL"
      },
      "outputs": [],
      "source": [
        "# all parameters not specified are set to their defaults\n",
        "# default solver is incredibly slow thats why we change it\n",
        "# solver = 'lbfgs'\n",
        "logisticRegr = LogisticRegression(solver = 'lbfgs')"
      ]
    },
    {
      "cell_type": "code",
      "execution_count": null,
      "metadata": {
        "colab": {
          "base_uri": "https://localhost:8080/"
        },
        "id": "P_VvMmeUQmGL",
        "outputId": "0a233c68-0049-4714-e3ce-1941592b820f"
      },
      "outputs": [
        {
          "output_type": "execute_result",
          "data": {
            "text/plain": [
              "LogisticRegression()"
            ]
          },
          "metadata": {},
          "execution_count": 66
        }
      ],
      "source": [
        "logisticRegr.fit(train_img, train_lbl)"
      ]
    },
    {
      "cell_type": "markdown",
      "metadata": {
        "id": "3l4ZgxCEQmGM"
      },
      "source": [
        "## Measuring Model Performance"
      ]
    },
    {
      "cell_type": "code",
      "execution_count": null,
      "metadata": {
        "colab": {
          "base_uri": "https://localhost:8080/"
        },
        "id": "IZn4GuttQmGN",
        "outputId": "0192c15c-a658-4039-d9a2-fdd05b1da37e"
      },
      "outputs": [
        {
          "output_type": "stream",
          "name": "stdout",
          "text": [
            "0.9781491002570694\n"
          ]
        }
      ],
      "source": [
        "score = logisticRegr.score(test_img, test_lbl)\n",
        "print(score)"
      ]
    },
    {
      "cell_type": "markdown",
      "source": [
        "# Cross-validation"
      ],
      "metadata": {
        "id": "aByfACcCSnQW"
      }
    },
    {
      "cell_type": "code",
      "source": [
        "from sklearn.model_selection import cross_val_score\n",
        "logisticRegr = LogisticRegression(solver = 'liblinear')\n",
        "for i in range(1,80,10):\n",
        "  scores = cross_val_score(logisticRegr, df[X], df[y], cv=10)\n",
        "  print(i, \" : \",sum(scores)/len(scores))"
      ],
      "metadata": {
        "colab": {
          "base_uri": "https://localhost:8080/"
        },
        "id": "TNnFmMU7Sp30",
        "outputId": "93576d7b-40a9-4a48-c346-4de9e0d33517"
      },
      "execution_count": null,
      "outputs": [
        {
          "output_type": "stream",
          "name": "stdout",
          "text": [
            "1  :  0.9764749730167297\n",
            "11  :  0.9764749730167297\n",
            "21  :  0.9764749730167297\n",
            "31  :  0.9764749730167297\n",
            "41  :  0.9764749730167297\n",
            "51  :  0.9764749730167297\n",
            "61  :  0.9764749730167297\n",
            "71  :  0.9764749730167297\n"
          ]
        }
      ]
    },
    {
      "cell_type": "markdown",
      "source": [
        "# Equal count"
      ],
      "metadata": {
        "id": "DKU1xPfWX_Za"
      }
    },
    {
      "cell_type": "code",
      "source": [
        "df_new = df[ df[\"Label\"]==1 ]\n",
        "df_new = df_new.append(df[df[\"Label\"]==0].head(128))\n",
        "df_new = shuffle(df_new).reset_index()"
      ],
      "metadata": {
        "id": "fJajhvJUVgRv"
      },
      "execution_count": null,
      "outputs": []
    },
    {
      "cell_type": "code",
      "source": [
        "train_img, test_img, train_lbl, test_lbl = train_test_split(\n",
        "    df_new[X], df_new[y], test_size=1/7.0, random_state=0)"
      ],
      "metadata": {
        "id": "yoh5TfvLYnQ3"
      },
      "execution_count": null,
      "outputs": []
    },
    {
      "cell_type": "code",
      "source": [
        "scaler = StandardScaler()\n",
        "\n",
        "# Fit on training set only.\n",
        "scaler.fit(train_img)\n",
        "\n",
        "# Apply transform to both the training set and the test set.\n",
        "train_img = scaler.transform(train_img)\n",
        "test_img = scaler.transform(test_img)"
      ],
      "metadata": {
        "id": "awosI48ubMTK"
      },
      "execution_count": null,
      "outputs": []
    },
    {
      "cell_type": "code",
      "source": [
        "model = LogisticRegression(solver = 'liblinear')\n",
        "model.fit(train_img, train_lbl)\n",
        "score = model.score(test_img, test_lbl)\n",
        "print(score)"
      ],
      "metadata": {
        "colab": {
          "base_uri": "https://localhost:8080/"
        },
        "outputId": "8b01f163-44a4-4829-a497-2ed36f596db8",
        "id": "BGqEIODzA0Ut"
      },
      "execution_count": null,
      "outputs": [
        {
          "output_type": "stream",
          "name": "stdout",
          "text": [
            "0.8648648648648649\n"
          ]
        }
      ]
    },
    {
      "cell_type": "code",
      "source": [
        "model = SVC(gamma='auto')\n",
        "model.fit(train_img, train_lbl)\n",
        "score = model.score(test_img, test_lbl)\n",
        "print(score)"
      ],
      "metadata": {
        "colab": {
          "base_uri": "https://localhost:8080/"
        },
        "id": "Nym1-ib2-iC2",
        "outputId": "755b533b-9394-45e4-e7bd-c77310d35c15"
      },
      "execution_count": null,
      "outputs": [
        {
          "output_type": "stream",
          "name": "stdout",
          "text": [
            "0.8378378378378378\n"
          ]
        }
      ]
    },
    {
      "cell_type": "code",
      "source": [
        "model = DecisionTreeClassifier(random_state=0)\n",
        "model.fit(train_img, train_lbl)\n",
        "score = model.score(test_img, test_lbl)\n",
        "print(score)"
      ],
      "metadata": {
        "colab": {
          "base_uri": "https://localhost:8080/"
        },
        "id": "RDaqordN_QE3",
        "outputId": "ae7085a0-ea6f-4873-97d8-55b09e4a6041"
      },
      "execution_count": null,
      "outputs": [
        {
          "output_type": "stream",
          "name": "stdout",
          "text": [
            "0.8108108108108109\n"
          ]
        }
      ]
    },
    {
      "cell_type": "code",
      "source": [
        "model = RandomForestClassifier(max_depth=4, random_state=0)\n",
        "model.fit(train_img, train_lbl)\n",
        "score = model.score(test_img, test_lbl)\n",
        "print(score)"
      ],
      "metadata": {
        "colab": {
          "base_uri": "https://localhost:8080/"
        },
        "id": "u-4KiiyNAMwo",
        "outputId": "f4d54982-8455-4161-fc09-63622889c198"
      },
      "execution_count": null,
      "outputs": [
        {
          "output_type": "stream",
          "name": "stdout",
          "text": [
            "0.8918918918918919\n"
          ]
        }
      ]
    },
    {
      "cell_type": "code",
      "source": [
        "model = KNeighborsClassifier(n_neighbors=3)\n",
        "model.fit(train_img, train_lbl)\n",
        "score = model.score(test_img, test_lbl)\n",
        "print(score)"
      ],
      "metadata": {
        "colab": {
          "base_uri": "https://localhost:8080/"
        },
        "id": "mOSQx_IPCkGm",
        "outputId": "44070c1a-1cef-42f7-c015-86eed9c39735"
      },
      "execution_count": null,
      "outputs": [
        {
          "output_type": "stream",
          "name": "stdout",
          "text": [
            "0.7297297297297297\n"
          ]
        }
      ]
    },
    {
      "cell_type": "markdown",
      "source": [
        "## Recall"
      ],
      "metadata": {
        "id": "D3cvtBWEZJol"
      }
    },
    {
      "cell_type": "code",
      "source": [
        "from sklearn.metrics import recall_score\n",
        "\n",
        "y_pred = model.predict(test_img)\n",
        "y_true = test_lbl\n",
        "recall_score(y_true, y_pred, average='macro')"
      ],
      "metadata": {
        "colab": {
          "base_uri": "https://localhost:8080/"
        },
        "id": "fPWPU8QkZI6l",
        "outputId": "c89c7591-1ab7-43d4-aaa7-0878da365ae6"
      },
      "execution_count": null,
      "outputs": [
        {
          "output_type": "execute_result",
          "data": {
            "text/plain": [
              "0.7280701754385965"
            ]
          },
          "metadata": {},
          "execution_count": 77
        }
      ]
    },
    {
      "cell_type": "code",
      "source": [
        "from sklearn.metrics import recall_score\n",
        "\n",
        "y_pred = model.predict(df[X])\n",
        "y_true = df[y]\n",
        "recall_score(y_true, y_pred, average='macro')"
      ],
      "metadata": {
        "colab": {
          "base_uri": "https://localhost:8080/"
        },
        "id": "GrUCdJqImd3n",
        "outputId": "8880056c-b402-4396-ae4e-fd12aee8e434"
      },
      "execution_count": null,
      "outputs": [
        {
          "output_type": "stream",
          "name": "stderr",
          "text": [
            "/usr/local/lib/python3.7/dist-packages/sklearn/base.py:444: UserWarning: X has feature names, but KNeighborsClassifier was fitted without feature names\n",
            "  f\"X has feature names, but {self.__class__.__name__} was fitted without\"\n"
          ]
        },
        {
          "output_type": "execute_result",
          "data": {
            "text/plain": [
              "0.43268060064935066"
            ]
          },
          "metadata": {},
          "execution_count": 78
        }
      ]
    },
    {
      "cell_type": "markdown",
      "source": [
        "## F1"
      ],
      "metadata": {
        "id": "grsP9Sc_ZLU_"
      }
    },
    {
      "cell_type": "code",
      "source": [
        "from sklearn.metrics import f1_score\n",
        "\n",
        "f1_score(y_true, y_pred, average='macro')"
      ],
      "metadata": {
        "colab": {
          "base_uri": "https://localhost:8080/"
        },
        "id": "r7YZZ014X2Rq",
        "outputId": "82e82743-84e0-44b1-9938-32e7a14a5918"
      },
      "execution_count": null,
      "outputs": [
        {
          "output_type": "execute_result",
          "data": {
            "text/plain": [
              "0.41948798346536115"
            ]
          },
          "metadata": {},
          "execution_count": 79
        }
      ]
    },
    {
      "cell_type": "markdown",
      "source": [
        "#AUC curve"
      ],
      "metadata": {
        "id": "9f8EJfqb7Gjs"
      }
    },
    {
      "cell_type": "code",
      "source": [
        "import matplotlib.pyplot as plt\n",
        "from sklearn.metrics import accuracy_score, confusion_matrix, roc_auc_score, roc_curve\n",
        "\n",
        "def plot_roc_curve(true_y, y_prob):\n",
        "    \"\"\"\n",
        "    plots the roc curve based of the probabilities\n",
        "    \"\"\"\n",
        "    fpr, tpr, thresholds = roc_curve(true_y, y_prob)\n",
        "    plt.plot(fpr, tpr)\n",
        "    plt.xlabel('False Positive Rate')\n",
        "    plt.ylabel('True Positive Rate')"
      ],
      "metadata": {
        "id": "YZJCly1KjA_F"
      },
      "execution_count": null,
      "outputs": []
    },
    {
      "cell_type": "code",
      "source": [
        "plot_roc_curve(y_true, y_pred)"
      ],
      "metadata": {
        "colab": {
          "base_uri": "https://localhost:8080/",
          "height": 279
        },
        "id": "xkF9Z7cm7Jlq",
        "outputId": "a44bf768-1b49-4b6a-c661-3c1e3078ac9c"
      },
      "execution_count": null,
      "outputs": [
        {
          "output_type": "display_data",
          "data": {
            "text/plain": [
              "<Figure size 432x288 with 1 Axes>"
            ],
            "image/png": "[encoded data removed]"
          },
          "metadata": {
            "needs_background": "light"
          }
        }
      ]
    },
    {
      "cell_type": "code",
      "source": [
        "sum(y_pred)"
      ],
      "metadata": {
        "colab": {
          "base_uri": "https://localhost:8080/"
        },
        "id": "os2sNnV3BeVS",
        "outputId": "0f9a8756-cdcd-4974-fa1c-85a0e1853818"
      },
      "execution_count": null,
      "outputs": [
        {
          "output_type": "execute_result",
          "data": {
            "text/plain": [
              "1608"
            ]
          },
          "metadata": {},
          "execution_count": 82
        }
      ]
    },
    {
      "cell_type": "code",
      "source": [],
      "metadata": {
        "id": "4SBpNJTMBfhG"
      },
      "execution_count": null,
      "outputs": []
    }
  ]
}